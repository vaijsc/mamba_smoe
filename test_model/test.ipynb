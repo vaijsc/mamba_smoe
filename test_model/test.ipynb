{
 "cells": [
  {
   "cell_type": "code",
   "execution_count": null,
   "metadata": {},
   "outputs": [],
   "source": [
    "# moe_outp = moe_outp  # [scale via dimension]\n",
    "# moe_outp = moe_outp.view(moe_outp.size(0)//256, 256, moe_outp.size(1))\n",
    "# # moe_outp = moe_outp.view(moe_outp.size(0), -1)\n",
    "# moe_view = moe_inp.view(moe_inp.size(0)//256, 256, moe_inp.size(1)) # [8, 256, 128]\n",
    "# moe_attn = torch.matmul(moe_view, moe_view.transpose(1,2)) # [8, 256, 256]\n",
    "# moe_similarity = torch.tril(moe_attn) # [8, 256, 256]\n",
    "# # Initialize output tensor\n",
    "# moe_out = torch.zeros(8, 256, 128, device=moe_outp.device)  # Ensure moe_out is on the correct device\n",
    "# for k in range (moe_outp.size(0)):\n",
    "#     for i in range (moe_outp.size(1)):\n",
    "#         for j in range (i+1):\n",
    "#             moe_out[k][i] += moe_similarity[k][i][j] * moe_outp[k][j]\n",
    "# moe_outp = moe_out.view(-1, moe_out.size(2))\n",
    "# Step 1: Compute similarity matrix using batched matrix multiplication\n"
   ]
  }
 ],
 "metadata": {
  "language_info": {
   "name": "python"
  }
 },
 "nbformat": 4,
 "nbformat_minor": 2
}
